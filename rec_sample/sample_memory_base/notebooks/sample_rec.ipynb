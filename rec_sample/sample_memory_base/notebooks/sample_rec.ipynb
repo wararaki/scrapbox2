{
 "cells": [
  {
   "cell_type": "code",
   "execution_count": 1,
   "metadata": {},
   "outputs": [],
   "source": [
    "import numpy as np\n",
    "from scipy import sparse, stats"
   ]
  },
  {
   "cell_type": "code",
   "execution_count": 33,
   "metadata": {},
   "outputs": [
    {
     "data": {
      "text/html": [
       "<div>\n",
       "<style scoped>\n",
       "    .dataframe tbody tr th:only-of-type {\n",
       "        vertical-align: middle;\n",
       "    }\n",
       "\n",
       "    .dataframe tbody tr th {\n",
       "        vertical-align: top;\n",
       "    }\n",
       "\n",
       "    .dataframe thead th {\n",
       "        text-align: right;\n",
       "    }\n",
       "</style>\n",
       "<table border=\"1\" class=\"dataframe\">\n",
       "  <thead>\n",
       "    <tr style=\"text-align: right;\">\n",
       "      <th></th>\n",
       "      <th>0</th>\n",
       "      <th>1</th>\n",
       "      <th>2</th>\n",
       "      <th>3</th>\n",
       "    </tr>\n",
       "  </thead>\n",
       "  <tbody>\n",
       "    <tr>\n",
       "      <th>0</th>\n",
       "      <td>1</td>\n",
       "      <td>3</td>\n",
       "      <td>0</td>\n",
       "      <td>3</td>\n",
       "    </tr>\n",
       "    <tr>\n",
       "      <th>1</th>\n",
       "      <td>0</td>\n",
       "      <td>1</td>\n",
       "      <td>3</td>\n",
       "      <td>0</td>\n",
       "    </tr>\n",
       "    <tr>\n",
       "      <th>2</th>\n",
       "      <td>2</td>\n",
       "      <td>1</td>\n",
       "      <td>3</td>\n",
       "      <td>1</td>\n",
       "    </tr>\n",
       "    <tr>\n",
       "      <th>3</th>\n",
       "      <td>1</td>\n",
       "      <td>3</td>\n",
       "      <td>2</td>\n",
       "      <td>0</td>\n",
       "    </tr>\n",
       "  </tbody>\n",
       "</table>\n",
       "</div>"
      ],
      "text/plain": [
       "   0  1  2  3\n",
       "0  1  3  0  3\n",
       "1  0  1  3  0\n",
       "2  2  1  3  1\n",
       "3  1  3  2  0"
      ]
     },
     "execution_count": 33,
     "metadata": {},
     "output_type": "execute_result"
    }
   ],
   "source": [
    "rate_df = pd.DataFrame([[1, 3, 0, 3], [0, 1, 3, 0], [2, 1, 3, 1], [1, 3, 2, 0]])\n",
    "rate_df"
   ]
  },
  {
   "cell_type": "code",
   "execution_count": 110,
   "metadata": {},
   "outputs": [],
   "source": [
    "(n_users, n_items) = ratings.shape\n",
    "\n",
    "user_ids = rate_df.index\n",
    "user_id2idx = {user_id: i for i, user_id in enumerate(user_ids)}\n",
    "\n",
    "item_ids = rate_df.columns\n",
    "item_id2idx = {item_id: i for i, item_id in enumerate(item_ids)}\n",
    "\n",
    "ratings = rate_df.values"
   ]
  },
  {
   "cell_type": "code",
   "execution_count": 59,
   "metadata": {},
   "outputs": [],
   "source": [
    "def get_common_indices(x: np.array, y: np.array) -> np.array:\n",
    "    return np.intersect1d(np.where(x > 0)[0], np.where(y > 0)[0])"
   ]
  },
  {
   "cell_type": "code",
   "execution_count": 197,
   "metadata": {},
   "outputs": [
    {
     "data": {
      "text/plain": [
       "<4x4 sparse matrix of type '<class 'numpy.float64'>'\n",
       "\twith 4 stored elements in LInked List format>"
      ]
     },
     "execution_count": 197,
     "metadata": {},
     "output_type": "execute_result"
    }
   ],
   "source": [
    "p = sparse.lil_matrix((n_users, n_users))\n",
    "for i in user_ids:\n",
    "    x = ratings[i]\n",
    "\n",
    "    for j in user_ids:\n",
    "        if i == j:\n",
    "            p[i, j] = 0\n",
    "            continue\n",
    "\n",
    "        y = ratings[j]\n",
    "        common_evaluated_items = get_common_indices(x, y)\n",
    "        if common_evaluated_items.shape[0] < 2:\n",
    "            p[i, j] = 0\n",
    "            continue\n",
    "\n",
    "        p[i, j] = stats.pearsonr(\n",
    "            x[common_evaluated_items],\n",
    "            y[common_evaluated_items]\n",
    "        )[0]\n",
    "\n",
    "r_means = sparse.lil_matrix((n_users, n_users))\n",
    "for i in user_ids:\n",
    "    x = ratings[i]\n",
    "\n",
    "    for j in user_ids:\n",
    "        y = ratings[j]\n",
    "        common_evaluated_items = get_common_indices(x, y)\n",
    "        r_means[i, j] = np.mean(x[common_evaluated_items])\n",
    "\n",
    "r = sparse.lil_matrix((n_users, n_items))\n",
    "for i in user_ids:\n",
    "    x = ratings[i]\n",
    "\n",
    "    not_evaluated_item_ids = np.where(x == 0.0)[0]\n",
    "    for j in not_evaluated_item_ids:\n",
    "        evaluated_user_ids = np.where(ratings.T[j] > 0.0)[0]\n",
    "        \n",
    "        p_sum = np.sum(np.absolute(p[i, evaluated_user_ids]))\n",
    "        r_sum = np.sum([p[i, k] * (ratings[k, j] - r_means[k, i]) for k in evaluated_user_ids if r_means[k, i] > 0.0])\n",
    "        \n",
    "        r[i, j] = r_means[i, i] + r_sum / p_sum\n",
    "r"
   ]
  },
  {
   "cell_type": "code",
   "execution_count": 240,
   "metadata": {},
   "outputs": [
    {
     "name": "stdout",
     "output_type": "stream",
     "text": [
      "  (0, 0)\t2.75\n",
      "  (0, 3)\t1.0\n",
      "[0]\n",
      "[0]\n",
      "[2.75]\n"
     ]
    }
   ],
   "source": [
    "target_user_id = 1\n",
    "x = r[target_user_id]\n",
    "print(r[1])\n",
    "x_data = np.array(x.data[0])\n",
    "x_rows = np.array(x.rows[0])\n",
    "indices = np.argsort(x_data)[::-1]\n",
    "indices = indices[:1]\n",
    "print(indices)\n",
    "print(x_rows[indices])\n",
    "print(x_data[indices])\n",
    "# indices = np.where(indices[:10] > 0.0)\n",
    "results = [{\n",
    "    'item_id': i,\n",
    "    'score': score,\n",
    "} for i, score in zip(x_rows[indices], x_data[indices])]"
   ]
  },
  {
   "cell_type": "code",
   "execution_count": 237,
   "metadata": {},
   "outputs": [
    {
     "data": {
      "text/plain": [
       "[{'item_id': 0, 'score': 2.75}, {'item_id': 3, 'score': 1.0}]"
      ]
     },
     "execution_count": 237,
     "metadata": {},
     "output_type": "execute_result"
    }
   ],
   "source": [
    "results"
   ]
  },
  {
   "cell_type": "code",
   "execution_count": 193,
   "metadata": {},
   "outputs": [
    {
     "data": {
      "text/plain": [
       "array([[1, 3, 0, 3],\n",
       "       [0, 1, 3, 0],\n",
       "       [2, 1, 3, 1],\n",
       "       [1, 3, 2, 0]])"
      ]
     },
     "execution_count": 193,
     "metadata": {},
     "output_type": "execute_result"
    }
   ],
   "source": [
    "ratings"
   ]
  },
  {
   "cell_type": "code",
   "execution_count": 194,
   "metadata": {},
   "outputs": [
    {
     "data": {
      "text/plain": [
       "array([[2.33333333, 3.        , 2.33333333, 2.        ],\n",
       "       [1.        , 2.        , 2.        , 2.        ],\n",
       "       [1.33333333, 2.        , 1.75      , 2.        ],\n",
       "       [2.        , 2.5       , 2.        , 2.        ]])"
      ]
     },
     "execution_count": 194,
     "metadata": {},
     "output_type": "execute_result"
    }
   ],
   "source": [
    "r_means.toarray()"
   ]
  },
  {
   "cell_type": "code",
   "execution_count": 195,
   "metadata": {},
   "outputs": [
    {
     "data": {
      "text/plain": [
       "array([[ 0. ,  0. , -1. ,  1. ],\n",
       "       [ 0. ,  0. ,  1. , -1. ],\n",
       "       [-1. ,  1. ,  0. , -0.5],\n",
       "       [ 1. , -1. , -0.5,  0. ]])"
      ]
     },
     "execution_count": 195,
     "metadata": {},
     "output_type": "execute_result"
    }
   ],
   "source": [
    "p.toarray()"
   ]
  },
  {
   "cell_type": "code",
   "execution_count": 204,
   "metadata": {},
   "outputs": [
    {
     "data": {
      "text/plain": [
       "array([[0.  , 0.  , 1.5 , 0.  ],\n",
       "       [2.75, 0.  , 0.  , 1.  ],\n",
       "       [0.  , 0.  , 0.  , 0.  ],\n",
       "       [0.  , 0.  , 0.  , 3.  ]])"
      ]
     },
     "execution_count": 204,
     "metadata": {},
     "output_type": "execute_result"
    }
   ],
   "source": [
    "r.toarray()"
   ]
  },
  {
   "cell_type": "code",
   "execution_count": null,
   "metadata": {},
   "outputs": [],
   "source": []
  }
 ],
 "metadata": {
  "kernelspec": {
   "display_name": "Python 3",
   "language": "python",
   "name": "python3"
  },
  "language_info": {
   "codemirror_mode": {
    "name": "ipython",
    "version": 3
   },
   "file_extension": ".py",
   "mimetype": "text/x-python",
   "name": "python",
   "nbconvert_exporter": "python",
   "pygments_lexer": "ipython3",
   "version": "3.7.0"
  }
 },
 "nbformat": 4,
 "nbformat_minor": 2
}
