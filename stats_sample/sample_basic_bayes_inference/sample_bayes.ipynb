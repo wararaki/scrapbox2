{
 "cells": [
  {
   "cell_type": "code",
   "execution_count": 7,
   "metadata": {},
   "outputs": [],
   "source": [
    "import pymc3 as pm\n",
    "import numpy as np"
   ]
  },
  {
   "cell_type": "code",
   "execution_count": 3,
   "metadata": {},
   "outputs": [],
   "source": [
    "np.random.seed(42)"
   ]
  },
  {
   "cell_type": "code",
   "execution_count": 20,
   "metadata": {},
   "outputs": [],
   "source": [
    "def linear_regression(X1: np.array,\n",
    "                      X2: np.array,\n",
    "                      alpha: float,\n",
    "                      beta: np.array,\n",
    "                      sigma: float,\n",
    "                      size: int=100) -> np.array:\n",
    "    return alpha + beta[0]*X1 + beta[1]*X2 + np.random.randn(size) * sigma"
   ]
  },
  {
   "cell_type": "code",
   "execution_count": 22,
   "metadata": {},
   "outputs": [
    {
     "data": {
      "text/plain": [
       "array([-2.55731707e-01,  1.60326839e+00,  2.22052178e+00,  1.88437876e+00,\n",
       "        2.31316268e+00, -1.65437388e-01, -1.10971178e+00,  1.83387324e+00,\n",
       "       -1.82337328e-01,  2.73609284e+00,  1.07181743e+00,  1.27220796e+00,\n",
       "        1.43258428e+00,  4.33883188e+00,  6.67084012e-02,  2.51966408e+00,\n",
       "       -1.49034331e-01,  1.39497409e+00,  1.38836527e+00,  3.55949923e+00,\n",
       "        3.79022622e-01,  2.64717442e+00,  1.23357476e+00,  8.17840252e-01,\n",
       "       -1.97859645e-01, -2.08391057e+00,  2.63035091e+00, -3.22254145e-01,\n",
       "        1.13777812e+00,  3.23367407e+00,  1.51529033e+00,  1.05531516e+00,\n",
       "        1.66547000e+00,  3.74199497e+00,  1.03537447e-01,  2.75315377e+00,\n",
       "        2.12230836e+00,  1.90252249e+00,  1.86586962e+00,  3.44848252e+00,\n",
       "        1.36404052e+00,  1.97141651e+00,  8.17809730e-01, -7.16265541e-01,\n",
       "        1.22518747e+00, -1.61774614e+00, -7.71493781e-01,  1.28355074e+00,\n",
       "        1.78862963e+00, -6.47006770e-01,  1.05465673e+00,  2.63475369e+00,\n",
       "       -4.82251099e-01,  4.35531726e+00,  2.50492344e+00, -3.26592492e+00,\n",
       "        3.15279178e+00,  1.99607940e+00,  8.45285114e-01,  1.70909223e+00,\n",
       "        1.41221600e+00,  1.41352905e-01,  1.38952292e+00, -1.25772852e+00,\n",
       "        1.18712313e+00,  9.55991210e-02,  2.54502617e+00,  2.41299088e-02,\n",
       "       -1.15305413e+00,  2.23829449e+00,  3.20146858e+00,  1.85520946e+00,\n",
       "       -9.12280503e-01, -1.08500954e-01,  2.16378455e+00,  1.68533551e+00,\n",
       "        2.86384502e+00,  2.33280263e+00,  1.74916882e-03,  1.16643009e+00,\n",
       "        2.19488520e+00,  2.30741307e-01,  4.51372663e+00,  1.25420867e+00,\n",
       "        8.09742951e-01,  7.51004169e-01, -1.60370046e+00,  5.27938113e-01,\n",
       "       -1.61302085e+00, -2.67015425e-01,  1.06670653e+00,  5.71234112e+00,\n",
       "        1.43637511e+00,  2.09130974e+00,  2.44127854e+00,  2.99954339e+00,\n",
       "        3.30701691e+00,  1.43228467e+00,  2.89166179e+00,  1.58577762e+00])"
      ]
     },
     "execution_count": 22,
     "metadata": {},
     "output_type": "execute_result"
    }
   ],
   "source": [
    "alpha = 1.0\n",
    "sigma = 1.0\n",
    "beta = np.array([1.0, 2.5])\n",
    "\n",
    "X1 = np.random.randn(size)\n",
    "X2 = np.random.randn(size) * 0.2\n",
    "\n",
    "Y = linear_regression(X1, X2, alpha, beta, sigma)\n",
    "Y"
   ]
  },
  {
   "cell_type": "markdown",
   "metadata": {},
   "source": [
    "pymc"
   ]
  },
  {
   "cell_type": "code",
   "execution_count": 18,
   "metadata": {},
   "outputs": [
    {
     "data": {
      "text/latex": [
       "$\\text{Y_obs} \\sim \\text{Normal}(\\mathit{mu}=f(f(f(\\text{alpha}),~f(f(f(\\text{beta})),~array)),~f(f(f(\\text{beta})),~array)),~\\mathit{sd}=f(f(f(\\text{sigma}))))$"
      ],
      "text/plain": [
       "Y_obs"
      ]
     },
     "execution_count": 18,
     "metadata": {},
     "output_type": "execute_result"
    }
   ],
   "source": [
    "basic_model = pm.Model()\n",
    "with basic_model:\n",
    "    alpha = pm.Normal('alpha', mu=0, tau=0.1)\n",
    "    beta = pm.Normal('beta', mu=0, tau=0.1, shape=2)\n",
    "    sigma = pm.HalfNormal('sigma', tau=0.1)\n",
    "    \n",
    "    mu = alpha + beta[0]*X1 + beta[1]*X2\n",
    "    \n",
    "    Y_obs = pm.Normal('Y_obs', mu=mu, tau=1.0/sigma, observed=Y)\n",
    "Y_obs"
   ]
  },
  {
   "cell_type": "code",
   "execution_count": 19,
   "metadata": {},
   "outputs": [
    {
     "name": "stderr",
     "output_type": "stream",
     "text": [
      "/Users/wararaki/.pyenv/versions/3.7.0/lib/python3.7/site-packages/pymc3/tuning/starting.py:61: UserWarning: find_MAP should not be used to initialize the NUTS sampler, simply call pymc3.sample() and it will automatically initialize NUTS in a better way.\n",
      "  warnings.warn('find_MAP should not be used to initialize the NUTS sampler, simply call pymc3.sample() and it will automatically initialize NUTS in a better way.')\n",
      "logp = -142.17, ||grad|| = 5.3529: 100%|██████████| 17/17 [00:00<00:00, 1507.75it/s]  \n"
     ]
    },
    {
     "data": {
      "text/plain": [
       "{'alpha': array(1.22466948),\n",
       " 'beta': array([1.1062241 , 2.18518893]),\n",
       " 'sigma_log__': array(-0.16119341),\n",
       " 'sigma': array(0.85112743)}"
      ]
     },
     "execution_count": 19,
     "metadata": {},
     "output_type": "execute_result"
    }
   ],
   "source": [
    "map_estimate = pm.find_MAP(model=basic_model)\n",
    "map_estimate"
   ]
  },
  {
   "cell_type": "code",
   "execution_count": 27,
   "metadata": {},
   "outputs": [
    {
     "data": {
      "text/plain": [
       "array([ 1.73369954e+00,  7.14081431e-01,  5.87102386e-01,  1.49251757e+00,\n",
       "        1.36834594e+00,  4.91153705e-01,  1.05314005e+00,  1.30045364e+00,\n",
       "        2.22896648e-01,  4.62512089e+00, -1.13398266e+00,  6.50726947e-01,\n",
       "        4.27416137e-01,  8.69780053e-01,  8.32541725e-01,  1.92800719e+00,\n",
       "        1.30228160e+00,  1.93680595e+00, -8.37504927e-01,  5.09404067e+00,\n",
       "        9.74932925e-01,  2.29433569e+00,  1.70219128e+00,  1.07843856e+00,\n",
       "        7.31082165e-01,  1.14436898e+00,  2.46663283e+00,  2.31257752e+00,\n",
       "        1.34618032e+00,  2.97925771e+00,  1.39686674e+00, -1.26316186e+00,\n",
       "        1.30878406e+00,  4.60428116e+00,  3.94215064e-03,  1.53328516e+00,\n",
       "        3.24964155e+00,  2.66898466e-02,  6.88696024e-01,  6.55858229e-01,\n",
       "        8.52027444e-01,  2.50920716e+00,  2.18610182e+00,  2.33431378e-01,\n",
       "        4.08854845e-01, -3.79252628e-01, -7.03539839e-01,  1.03810301e+00,\n",
       "        1.53794339e+00,  4.49545775e-01,  9.94069681e-01,  1.18585345e+00,\n",
       "       -1.49148433e+00,  1.26645881e+00,  2.13802728e+00, -9.33173089e-01,\n",
       "        3.61375684e+00,  1.17582392e+00,  1.06889633e+00,  1.01235086e+00,\n",
       "        1.81742689e+00,  9.25948392e-01, -1.90421910e-01,  5.33365560e-01,\n",
       "        2.56211552e+00, -6.47944580e-01,  1.14671305e+00,  2.56001726e-01,\n",
       "       -1.11264821e+00,  1.75508207e+00,  3.03233953e+00,  1.57903390e+00,\n",
       "       -3.33390651e-01, -9.85160462e-01,  3.60657577e+00,  1.25962235e+00,\n",
       "        2.12327465e+00,  3.10558641e+00,  5.47210924e-01,  9.91124563e-01,\n",
       "        1.83938482e+00,  1.82040471e+00,  2.08622775e+00,  2.07077374e+00,\n",
       "        1.04449020e+00,  4.72750870e-01, -8.75007746e-02,  2.15667366e+00,\n",
       "       -6.86298967e-01, -1.41286263e+00,  9.43022779e-01,  1.19985686e+00,\n",
       "        2.46944802e+00,  2.98126302e+00, -8.55624853e-01,  3.36578132e-01,\n",
       "        2.17960812e+00,  2.23011958e+00,  2.06278963e+00,  6.73828451e-01])"
      ]
     },
     "execution_count": 27,
     "metadata": {},
     "output_type": "execute_result"
    }
   ],
   "source": [
    "linear_regression(X1, X2,\n",
    "                  map_estimate['alpha'],\n",
    "                  map_estimate['beta'],\n",
    "                  map_estimate['sigma'])"
   ]
  },
  {
   "cell_type": "code",
   "execution_count": null,
   "metadata": {},
   "outputs": [],
   "source": []
  }
 ],
 "metadata": {
  "kernelspec": {
   "display_name": "Python 3",
   "language": "python",
   "name": "python3"
  },
  "language_info": {
   "codemirror_mode": {
    "name": "ipython",
    "version": 3
   },
   "file_extension": ".py",
   "mimetype": "text/x-python",
   "name": "python",
   "nbconvert_exporter": "python",
   "pygments_lexer": "ipython3",
   "version": "3.7.0"
  }
 },
 "nbformat": 4,
 "nbformat_minor": 2
}
